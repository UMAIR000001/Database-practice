{
 "cells": [
  {
   "cell_type": "code",
   "execution_count": null,
   "metadata": {},
   "outputs": [],
   "source": []
  },
  {
   "cell_type": "code",
   "execution_count": 9,
   "metadata": {},
   "outputs": [
    {
     "name": "stdout",
     "output_type": "stream",
     "text": [
      "Connection established successfully!\n",
      "Query Results:\n",
      "(1, 'Umair                                        ', 19, 'Data Science                                 ')\n",
      "(2, 'Ayesha                                       ', 20, 'Computer Science                             ')\n",
      "(3, 'Ali                                          ', 21, 'Mathematics                                  ')\n",
      "(4, 'Sara                                         ', 18, 'Physics                                      ')\n",
      "(5, 'Hamza                                        ', 22, 'Software Engineering                         ')\n",
      "(6, 'Fatima                                       ', 20, 'Artificial Intelligence                      ')\n",
      "(7, 'Bilal                                        ', 23, 'Cybersecurity                                ')\n",
      "(8, 'Zara                                         ', 19, 'Business Analytics                           ')\n",
      "(9, 'Omar                                         ', 21, 'Mechanical Engineering                       ')\n"
     ]
    }
   ],
   "source": [
    "# CONNECTING  DATABASE TO PYTHON\n",
    "import psycopg2\n",
    "\n",
    "# Define connection parameters\n",
    "conn_params = {\n",
    "    \"host\": \"localhost\",          # Replace if your DB is hosted elsewhere\n",
    "    \"port\": \"5432\",               # Default port for PostgreSQL\n",
    "    \"database\": \"school\",  # Replace with your database name\n",
    "    \"user\": \"postgres\",      # Replace with your PostgreSQL username\n",
    "    \"password\": \"umair1234A@\"   # Replace with your PostgreSQL password\n",
    "}\n",
    "\n",
    "try:\n",
    "    # Establish a connection to the database\n",
    "    conn = psycopg2.connect(**conn_params)\n",
    "    print(\"Connection established successfully!\")\n",
    "\n",
    "    # Create a cursor object to interact with the database\n",
    "    cursor = conn.cursor()\n",
    "\n",
    "    # Execute a SELECT query. Replace 'your_table' with your actual table name.\n",
    "    query = \"SELECT * FROM class order by id;\"  # Adjust the query as needed\n",
    "    cursor.execute(query)\n",
    "\n",
    "    # Fetch all rows from the executed query\n",
    "    rows = cursor.fetchall()\n",
    "\n",
    "    # Print the result\n",
    "    print(\"Query Results:\")\n",
    "    for row in rows:\n",
    "        print(row)\n",
    "\n",
    "except Exception as e:\n",
    "    print(\"An error occurred:\", e)\n",
    "\n",
    "finally:\n",
    "    # Close the cursor and connection to free resources\n",
    "    if cursor:\n",
    "        cursor.close()\n",
    "    if conn:\n",
    "        conn.close()\n"
   ]
  },
  {
   "cell_type": "code",
   "execution_count": null,
   "metadata": {},
   "outputs": [
    {
     "name": "stdout",
     "output_type": "stream",
     "text": [
      "Successfully connected ...\n",
      "error connection already closed\n"
     ]
    }
   ],
   "source": [
    "import psycopg2\n",
    "conn_detail={\n",
    "    \"user\":\"postgres\",\n",
    "     \"host\":\"localhost\",\n",
    "      \"password\":\"umair1234A@\",\n",
    "       \"database\":\"school\",\n",
    "     \"port\":\"5432\"\n",
    "}\n",
    "\n",
    "try:\n",
    "    conn=psycopg2.connect(**conn_detail)\n",
    "    print(\"Successfully connected ...\")\n",
    "    cursor=conn.cursor()\n",
    "    query=\"select *from class\"\n",
    "    cursor.execute(query)\n",
    "    result=cursor.fetchall()\n",
    "    for row in result:\n",
    "        print(row)\n",
    "except Exception as e:\n",
    "    print(\"error\",e)\n"
   ]
  },
  {
   "cell_type": "code",
   "execution_count": 12,
   "metadata": {},
   "outputs": [
    {
     "name": "stdout",
     "output_type": "stream",
     "text": [
      "Successfully connected ...\n",
      "(101, 'Umair                                             ', 85, 90, 80, 'Expert in nothing                                 ', 255)\n",
      "(102, 'Ayesha                                            ', 78, 85, 82, 'Badminton                                         ', 245)\n",
      "(103, 'Ali                                               ', 88, 92, 79, 'Cycling                                           ', 259)\n",
      "(104, 'Sara                                              ', 75, 80, 85, 'Public Speaking                                   ', 240)\n",
      "(105, 'Hamza                                             ', 90, 88, 84, 'Web Development                                   ', 262)\n",
      "(106, 'Fatima                                            ', 79, 83, 77, 'Dancing                                           ', 239)\n",
      "(107, 'Bilal                                             ', 82, 79, 91, 'Photography                                       ', 252)\n",
      "(108, 'Zara                                              ', 88, 85, 87, 'Sketching                                         ', 260)\n",
      "(109, 'Omar                                              ', 92, 90, 89, 'Data Science                                      ', 271)\n",
      "(110, 'Hina                                              ', 80, 83, 81, 'Public Speaking                                   ', 244)\n",
      "(111, 'Ahmad                                             ', 76, 88, 90, 'Gaming                                            ', 254)\n",
      "(112, 'Naila                                             ', 85, 79, 78, 'Cooking                                           ', 242)\n",
      "(113, 'Usman                                             ', 90, 92, 85, 'Expert in C++                                     ', 267)\n",
      "(114, 'Rabia                                             ', 83, 89, 77, 'Singing                                           ', 249)\n",
      "(115, 'Faisal                                            ', 81, 80, 90, 'Acting                                            ', 251)\n",
      "(116, 'Mehwish                                           ', 89, 84, 88, 'Playing Chess                                     ', 261)\n",
      "(117, 'Zubair                                            ', 78, 85, 79, 'Karate                                            ', 242)\n",
      "(118, 'Tania                                             ', 91, 90, 89, 'Swimming                                          ', 270)\n",
      "(119, 'Kashif                                            ', 87, 88, 80, 'Driving                                           ', 255)\n",
      "(120, 'Sadia                                             ', 82, 85, 90, 'Debating                                          ', 257)\n",
      "(121, 'Hassan                                            ', 76, 80, 79, 'Video Editing                                     ', 235)\n",
      "(122, 'Laiba                                             ', 90, 91, 92, 'Expert in SQL                                     ', 273)\n",
      "(123, 'Zain                                              ', 85, 78, 84, 'Volleyball                                        ', 247)\n",
      "(124, 'Samina                                            ', 82, 79, 88, 'Creative Writing                                  ', 249)\n",
      "(125, 'Shahid                                            ', 88, 91, 85, 'Programming                                       ', 264)\n",
      "(126, 'Imran                                             ', 81, 82, 80, 'Cricket                                           ', 243)\n",
      "(127, 'Rukhsar                                           ', 83, 79, 81, 'Football                                          ', 243)\n",
      "(128, 'Babar                                             ', 86, 92, 90, 'Photography                                       ', 268)\n",
      "(129, 'Asma                                              ', 77, 80, 88, 'Drawing                                           ', 245)\n",
      "(130, 'Talha                                             ', 85, 88, 91, 'Guitarist                                         ', 264)\n",
      "(131, 'Dua                                               ', 84, 80, 79, 'Calligraphy                                       ', 243)\n",
      "(132, 'Sohail                                            ', 89, 83, 87, 'Handicrafts                                       ', 259)\n",
      "(133, 'Noman                                             ', 80, 90, 85, 'Dramatics                                         ', 255)\n",
      "(134, 'Rizwan                                            ', 82, 81, 90, 'Adventure Sports                                  ', 253)\n",
      "(135, 'Ibrahim                                           ', 90, 92, 88, 'Martial Arts                                      ', 270)\n",
      "(136, 'Nashit                                            ', 75, 78, 82, 'Storytelling                                      ', 235)\n",
      "(137, 'Shanzay                                           ', 91, 89, 92, 'Teaching                                          ', 272)\n",
      "(138, 'Waleed                                            ', 80, 85, 88, 'Social Work                                       ', 253)\n",
      "(139, 'Hoorain                                           ', 83, 87, 80, 'Painting                                          ', 250)\n",
      "(140, 'Salman                                            ', 79, 82, 84, 'Expert in Python                                  ', 245)\n"
     ]
    }
   ],
   "source": [
    "import psycopg2\n",
    "conn_detail={\n",
    "    \"user\":\"postgres\",\n",
    "     \"host\":\"localhost\",\n",
    "      \"password\":\"umair1234A@\",\n",
    "       \"database\":\"student_result\",\n",
    "     \"port\":\"5432\"\n",
    "}\n",
    "\n",
    "try:\n",
    "    conn=psycopg2.connect(**conn_detail)\n",
    "    print(\"Successfully connected ...\")\n",
    "    cursor=conn.cursor()\n",
    "    query=\"select *from result\"\n",
    "    cursor.execute(query)\n",
    "    result=cursor.fetchall()\n",
    "    for row in result:\n",
    "        print(row)\n",
    "except Exception as e:\n",
    "    print(\"error\",e)\n"
   ]
  }
 ],
 "metadata": {
  "kernelspec": {
   "display_name": "Python 3",
   "language": "python",
   "name": "python3"
  },
  "language_info": {
   "codemirror_mode": {
    "name": "ipython",
    "version": 3
   },
   "file_extension": ".py",
   "mimetype": "text/x-python",
   "name": "python",
   "nbconvert_exporter": "python",
   "pygments_lexer": "ipython3",
   "version": "3.13.1"
  }
 },
 "nbformat": 4,
 "nbformat_minor": 2
}
