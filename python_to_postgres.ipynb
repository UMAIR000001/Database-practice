{
 "cells": [
  {
   "cell_type": "code",
   "execution_count": null,
   "metadata": {},
   "outputs": [],
   "source": [
    "import psycopg2\n",
    "\n",
    "hostname='localhost'\n",
    "database='school'\n",
    "username='postgres'\n",
    "passward='umair1234A@'\n",
    "port_id=5432"
   ]
  },
  {
   "cell_type": "code",
   "execution_count": null,
   "metadata": {},
   "outputs": [
    {
     "name": "stdout",
     "output_type": "stream",
     "text": [
      "Connection established successfully!\n",
      "An error occurred: no results to fetch\n"
     ]
    }
   ],
   "source": [
    "# CONNECTING  DATABASE TO PYTHON\n",
    "import psycopg2\n",
    "\n",
    "# Define connection parameters\n",
    "conn_params = {\n",
    "    \"host\": \"localhost\",          # Replace if your DB is hosted elsewhere\n",
    "    \"port\": \"5432\",               # Default port for PostgreSQL\n",
    "    \"database\": \"school\",  # Replace with your database name\n",
    "    \"user\": \"postgres\",      # Replace with your PostgreSQL username\n",
    "    \"password\": \"umair1234A@\"   # Replace with your PostgreSQL password\n",
    "}\n",
    "\n",
    "try:\n",
    "    # Establish a connection to the database\n",
    "    conn = psycopg2.connect(**conn_params)\n",
    "    print(\"Connection established successfully!\")\n",
    "\n",
    "    # Create a cursor object to interact with the database\n",
    "    cursor = conn.cursor()\n",
    "\n",
    "    # Execute a SELECT query. Replace 'your_table' with your actual table name.\n",
    "    query = \"SELECT * FROM class order by id;\"  # Adjust the query as needed\n",
    "   # cursor.execute(query)\n",
    "\n",
    "    # Fetch all rows from the executed query\n",
    "    rows = cursor.fetchall()\n",
    "\n",
    "    # Print the result\n",
    "    print(\"Query Results:\")\n",
    "    for row in rows:\n",
    "        print(row)\n",
    "\n",
    "except Exception as e:\n",
    "    print(\"An error occurred:\", e)\n",
    "\n",
    "finally:\n",
    "    # Close the cursor and connection to free resources\n",
    "    if cursor:\n",
    "        cursor.close()\n",
    "    if conn:\n",
    "        conn.close()\n"
   ]
  },
  {
   "cell_type": "code",
   "execution_count": null,
   "metadata": {},
   "outputs": [
    {
     "name": "stdout",
     "output_type": "stream",
     "text": [
      "Mashallah! you did it \n",
      "[(2, 'Ayesha                                       ', 20, 'Computer Science                             '), (3, 'Ali                                          ', 21, 'Mathematics                                  '), (4, 'Sara                                         ', 18, 'Physics                                      '), (5, 'Hamza                                        ', 22, 'Software Engineering                         '), (6, 'Fatima                                       ', 20, 'Artificial Intelligence                      '), (7, 'Bilal                                        ', 23, 'Cybersecurity                                '), (8, 'Zara                                         ', 19, 'Business Analytics                           '), (9, 'Omar                                         ', 21, 'Mechanical Engineering                       '), (1, 'Umair                                        ', 19, 'Data Science                                 ')]\n"
     ]
    }
   ],
   "source": [
    "import psycopg2\n",
    "con1_parameters={\n",
    "    \"host\":\"localhost\",\n",
    "    \"port\":\"5432\",\n",
    "    \n",
    "    \"database\":\"school\",\n",
    "    \"user\":\"postgres\",\n",
    "    \"password\":\"umair1234A@\"}\n",
    "try:\n",
    "    conn=psycopg2.connect(**con1_parameters)\n",
    "    print(\"Mashallah! you did it \")\n",
    "    cursor=conn.cursor()\n",
    "    query=\"select *from class\"\n",
    "    cursor.execute(query)\n",
    "    all=cursor.fetchall()\n",
    "    print(all)\n",
    "except Exception as e:\n",
    "    print(\"Error ! koi na pagal figure_it_out \")\n",
    "finally:\n",
    "    cursor.close()\n",
    "    conn.close()"
   ]
  }
 ],
 "metadata": {
  "kernelspec": {
   "display_name": "Python 3",
   "language": "python",
   "name": "python3"
  },
  "language_info": {
   "codemirror_mode": {
    "name": "ipython",
    "version": 3
   },
   "file_extension": ".py",
   "mimetype": "text/x-python",
   "name": "python",
   "nbconvert_exporter": "python",
   "pygments_lexer": "ipython3",
   "version": "3.13.1"
  }
 },
 "nbformat": 4,
 "nbformat_minor": 2
}
